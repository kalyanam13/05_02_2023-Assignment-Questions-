{
 "cells": [
  {
   "cell_type": "markdown",
   "id": "d1571e67",
   "metadata": {},
   "source": [
    "# PW SKills [ASSIGNMENT QUESTIONS]"
   ]
  },
  {
   "cell_type": "markdown",
   "id": "cea26c8a",
   "metadata": {},
   "source": [
    "### Question no.1: Explain class and object with respect to object-oriented Programming.Give a suitable example.\n",
    "### Answer: Object-oriented programming (OOP) is a programming paradigm that revolves around the concept of \"objects\" that contain data and behavior. In OOP, a \"class\" is a blueprint or template for creating objects, while an \"object\" is an instance of a class.\n",
    "\n",
    "### A class defines a set of attributes and methods that describe the behavior and properties of the objects created from it. The attributes define the data that the object contains, while the methods define the operations that can be performed on that data.\n",
    "\n",
    "### For example, consider a class named \"Car\". The Car class can have attributes such as make, model, year, color, and number of doors. The class can also have methods such as start, stop, accelerate, and brake.\n",
    "\n",
    "### When we create an object of the Car class, we are creating an instance of that class with its own unique set of attribute values. For example, we could create a car object named \"myCar\" with the make \"Toyota\", model \"Corolla\", year \"2020\", color \"red\", and number of doors \"4\".\n",
    "\n",
    "### Then, we can use the methods of the myCar object to perform actions on it. For example, we can call the start() method to start the car, accelerate() to increase its speed, and brake() to slow it down.\n",
    "\n",
    "### In summary, a class is a blueprint for creating objects, while an object is an instance of a class with its own unique set of attribute values and methods that can be used to perform actions on that object.\n",
    "### Example:"
   ]
  },
  {
   "cell_type": "code",
   "execution_count": 4,
   "id": "afff1b83",
   "metadata": {},
   "outputs": [
    {
     "name": "stdout",
     "output_type": "stream",
     "text": [
      "Toyotta\n",
      "Corolla\n",
      "2023\n",
      "Black\n",
      "Starting the car.\n",
      "Stopping the car.\n",
      "Accelerating the car.\n",
      "Applying the brake.\n"
     ]
    }
   ],
   "source": [
    "class car:\n",
    "    \n",
    "    def __init__(self,make,model,year,colour,door):\n",
    "        \n",
    "        self.make = make\n",
    "        self.model = model\n",
    "        self.year = year\n",
    "        self.colour = colour\n",
    "        self.door = door\n",
    "    \n",
    "    def start(self):\n",
    "        print(\"Starting the car.\")\n",
    "    def stop(self):\n",
    "        print(\"Stopping the car.\")\n",
    "    def accelerate(self):\n",
    "        print(\"Accelerating the car.\")\n",
    "    def brake(self):\n",
    "        print(\"Applying the brake.\")\n",
    "        \n",
    "my_car = car(\"Toyotta\",\"Corolla\",2023,\"Black\",4)\n",
    "\n",
    "print(my_car.make)\n",
    "print(my_car.model)\n",
    "print(my_car.year)\n",
    "print(my_car.colour)\n",
    "\n",
    "my_car.start()\n",
    "my_car.stop()\n",
    "my_car.accelerate()\n",
    "my_car.brake()"
   ]
  },
  {
   "cell_type": "markdown",
   "id": "cbc00b23",
   "metadata": {},
   "source": [
    "### Question no.2: Name the four pillars of OOPs.\n",
    "### Answer: The four pillars of object-oriented programming (OOP) in Python, as in any other object-oriented language, are:\n",
    "\n",
    "### Encapsulation: It is the mechanism of hiding the implementation details of a class from the outside world, and exposing only the necessary interfaces to interact with the class. This helps in achieving data abstraction and information hiding, and prevents the external code from accessing or modifying the internal state of the class directly.\n",
    "\n",
    "### Inheritance: It is the mechanism of creating new classes from existing classes, by inheriting their attributes and methods. The new class is called a subclass or derived class, while the existing class is called a superclass or base class. Inheritance helps in code reusability, by allowing the derived classes to inherit the behavior and properties of the base class, and extend or modify them as per their needs.\n",
    "\n",
    "### Polymorphism: It is the ability of objects to take multiple forms or behaviors, depending on the context or the type of input. Polymorphism can be achieved in Python through method overloading and method overriding. Method overloading is the mechanism of defining multiple methods with the same name but different parameters, while method overriding is the mechanism of defining a method in the subclass that has the same name and signature as a method in the superclass.\n",
    "\n",
    "### Abstraction: It is the process of extracting the essential features of an entity and ignoring the non-essential ones. In Python, abstraction can be achieved through abstract classes and interfaces. An abstract class is a class that cannot be instantiated, and can only be used as a blueprint for creating concrete classes. An interface is a collection of abstract methods that define the behavior of a class, without providing any implementation details."
   ]
  },
  {
   "cell_type": "markdown",
   "id": "e9cd94f2",
   "metadata": {},
   "source": [
    "### Question no.3: Explain why the __init()__ function is used. Give a suitable example.\n",
    "### Answer: In Python, the __init__() function is a special method that is called automatically when an object of a class is created. It is used to initialize the attributes of the object with the given values, and perform any other necessary setup operations.\n",
    "\n",
    "### The __init__() method is called a constructor because it constructs or creates an object of the class. It takes the self parameter as its first argument, which refers to the object being created, any other arguments that are passed while creating the object.\n",
    "\n",
    "### Here's an example of a class with the __init__() method in Python:"
   ]
  },
  {
   "cell_type": "code",
   "execution_count": 7,
   "id": "db334af7",
   "metadata": {},
   "outputs": [
    {
     "name": "stdout",
     "output_type": "stream",
     "text": [
      "Name: john\n",
      "Age: 30\n",
      "Name: Alice\n",
      "Age: 26\n"
     ]
    }
   ],
   "source": [
    "class person:\n",
    "    \n",
    "    def __init__(self,name,age):\n",
    "        \n",
    "        self.name = name\n",
    "        self.age = age\n",
    "        \n",
    "    def display(self):\n",
    "        print(\"Name:\",self.name)\n",
    "        print(\"Age:\",self.age)\n",
    "        \n",
    "person_1=person(\"john\",30)\n",
    "person_2=person(\"Alice\",26)\n",
    "\n",
    "person_1.display()\n",
    "person_2.display()"
   ]
  },
  {
   "cell_type": "markdown",
   "id": "22230e44",
   "metadata": {},
   "source": [
    "### Question no.4: Why self is used in OOPs?\n",
    "### Answer:In object-oriented programming (OOP), self is a reference to the current instance of a class. It is used to access the attributes and methods of the current object within a class.\n",
    "\n",
    "### In Python, self is the first parameter of any instance method defined within a class. When we call an instance method on an object of a class, the object itself is passed as the self argument to the method. This allows the method to access and modify the attributes of the object, and perform any operations specific to that instance.\n",
    "\n",
    "### For example, consider the following class definition in Python:"
   ]
  },
  {
   "cell_type": "code",
   "execution_count": 8,
   "id": "49ba144f",
   "metadata": {},
   "outputs": [],
   "source": [
    "class Person:\n",
    "    def __init__(self, name, age):\n",
    "        self.name = name\n",
    "        self.age = age\n",
    "    \n",
    "    def display(self):\n",
    "        print(\"Name:\", self.name)\n",
    "        print(\"Age:\", self.age)\n"
   ]
  },
  {
   "cell_type": "markdown",
   "id": "a7799e82",
   "metadata": {},
   "source": [
    "### In this example, self is used in both the __init__() and display() methods. In the __init__() method, self is used to set the name and age attributes of the current object. In the display() method, self is used to print the name and age attributes of the current object to the console.\n",
    "\n",
    "### When we create an object of the Person class and call the display() method on it, the object itself is passed as the self parameter to the method. This allows the method to access and print the name and age attributes of the current object, as shown below:"
   ]
  },
  {
   "cell_type": "code",
   "execution_count": 9,
   "id": "696c9801",
   "metadata": {},
   "outputs": [
    {
     "name": "stdout",
     "output_type": "stream",
     "text": [
      "Name: John\n",
      "Age: 30\n"
     ]
    }
   ],
   "source": [
    "person = Person(\"John\", 30)\n",
    "person.display() # Output: Name: John, Age: 30\n"
   ]
  },
  {
   "cell_type": "markdown",
   "id": "232cf9d6",
   "metadata": {},
   "source": [
    "### In summary, self is used in OOP to reference the current instance of a class, and allows us to access and modify the attributes of the object within a class method."
   ]
  },
  {
   "cell_type": "markdown",
   "id": "49b91020",
   "metadata": {},
   "source": [
    "### Question no.5: What is inheritance? Give an example for each type of inheritance.\n",
    "### Answer: Inheritance is a mechanism in object-oriented programming (OOP) that allows a new class to be based on an existing class, inheriting the attributes and methods of the parent class. The new class is called the child class or subclass, and the existing class is called the parent class or superclass.\n",
    "\n",
    "### In Python, there are four types of inheritance:\n",
    "\n",
    "### Single inheritance: A child class inherits from a single parent class.\n",
    "### Example:"
   ]
  },
  {
   "cell_type": "code",
   "execution_count": 12,
   "id": "4922c802",
   "metadata": {},
   "outputs": [
    {
     "name": "stdout",
     "output_type": "stream",
     "text": [
      "Rufus is speaking.\n",
      "Rufus is barking.\n"
     ]
    }
   ],
   "source": [
    "class Animal:\n",
    "    \n",
    "    def __init__(self,name):\n",
    "        self.name = name\n",
    "        \n",
    "    def speak(self):\n",
    "        print(f\"{self.name} is speaking.\")\n",
    "        \n",
    "class Dog(Animal):\n",
    "    def __init__(self,name,breed):\n",
    "        super().__init__(name)\n",
    "        self.breed = breed\n",
    "      \n",
    "    def bark(self):\n",
    "        print(f\"{self.name} is barking.\")\n",
    "        \n",
    "dog=Dog(\"Rufus\",\"Labrador\")\n",
    "dog.speak()\n",
    "dog.bark()"
   ]
  },
  {
   "cell_type": "markdown",
   "id": "50e3fa8c",
   "metadata": {},
   "source": [
    "### In this example, the Animal class is the parent class, and the Dog class is the child class that inherits from it using single inheritance. The Dog class has an additional attribute breed and a method bark().\n",
    "\n",
    "### Multiple inheritance: A child class inherits from multiple parent classes.\n",
    "### Example:"
   ]
  },
  {
   "cell_type": "code",
   "execution_count": 14,
   "id": "66538aa8",
   "metadata": {},
   "outputs": [
    {
     "name": "stdout",
     "output_type": "stream",
     "text": [
      "Rufus is speaking.\n",
      "Feeding babies.\n",
      "Rufus is barking.\n"
     ]
    }
   ],
   "source": [
    "class Animal:\n",
    "    \n",
    "    def __init__(self,name):\n",
    "        self.name = name\n",
    "        \n",
    "    def speak(self):\n",
    "        print(f\"{self.name} is speaking.\")\n",
    "\n",
    "class Mammal:\n",
    "    def feed_babies(self):\n",
    "        print(\"Feeding babies.\")\n",
    "        \n",
    "class Dog(Animal,Mammal):\n",
    "    def __init__(self,name,breed):\n",
    "        super().__init__(name)\n",
    "        self.breed = breed\n",
    "        \n",
    "    def bark(self):\n",
    "        print(f\"{self.name} is barking.\")\n",
    "        \n",
    "dog = Dog(\"Rufus\",\"Labrador\")\n",
    "dog.speak()\n",
    "dog.feed_babies()\n",
    "dog.bark()\n",
    "    \n",
    "    "
   ]
  },
  {
   "cell_type": "markdown",
   "id": "1201ae3b",
   "metadata": {},
   "source": [
    "### In this example, the Animal and Mammal classes are the parent classes, and the Dog class is the child class that inherits from both of them using multiple inheritance. The Dog class has additional methods bark() and feed_babies()."
   ]
  },
  {
   "cell_type": "code",
   "execution_count": null,
   "id": "b02ec43d",
   "metadata": {},
   "outputs": [],
   "source": []
  }
 ],
 "metadata": {
  "kernelspec": {
   "display_name": "Python 3 (ipykernel)",
   "language": "python",
   "name": "python3"
  },
  "language_info": {
   "codemirror_mode": {
    "name": "ipython",
    "version": 3
   },
   "file_extension": ".py",
   "mimetype": "text/x-python",
   "name": "python",
   "nbconvert_exporter": "python",
   "pygments_lexer": "ipython3",
   "version": "3.9.13"
  }
 },
 "nbformat": 4,
 "nbformat_minor": 5
}
